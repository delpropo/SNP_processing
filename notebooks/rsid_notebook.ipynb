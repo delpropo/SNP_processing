{
 "cells": [
  {
   "cell_type": "markdown",
   "metadata": {},
   "source": [
    "# SNP Data Integration Plan of Action\n",
    "\n",
    "## Objective\n",
    "To compare all available rsid files with SNP data and to combine matching data based on the \"SNP Name\" and first column \"Name\" from the rsid files.\n",
    "\n",
    "## Tools Required\n",
    "- Python 3.x\n",
    "- Pandas library for Python\n",
    "- I use an Anaconda environment for Python development.  install jupyter notebook, pandas, numpy\n",
    "\n",
    "## Stage 1: Preprocessing\n",
    "\n",
    "### 1.1. Prepare the Python Environment\n",
    "- Ensure Python and Pandas are installed.\n",
    "- Verify that you have read/write access to the files and sufficient memory for processing.\n",
    "\n",
    "### 1.2. define file paths\n",
    "- Define the paths to the rsid files and the SNP data files\n",
    "\n",
    "\n",
    "\n",
    "## Stage 2: Load and process Files\n",
    "\n",
    "###  2.1. Load rsid Files and validate the data\n",
    "- Confirm that the rsid files have a \"Name\" column and an \"RsID\" column.\n",
    "- Check that the second column can have a `.` indicating a missing value or rsid values separated by commas.\n",
    "###  2.2. Load SNP Data File and validate the data\n",
    "###  2.3. Identify Unmatched SNP Names\n",
    "\n",
    "## Stage 3: Combine Data and output results\n",
    "### 3.1. Merge SNP Data with rsid Information\n",
    "\n",
    "\n"
   ]
  },
  {
   "cell_type": "code",
   "execution_count": 36,
   "metadata": {},
   "outputs": [],
   "source": [
    "# Stage 1: preprocessing\n",
    "\n",
    "import os\n",
    "import pandas as pd\n",
    "import numpy as np\n",
    "\n",
    "\n",
    "\n",
    "\n",
    "# print the current working directory.  If it is not in the notebooks directory, reload the notebook\n",
    "if os.path.basename(os.getcwd()) == 'notebooks':\n",
    "    print('Current working directory: ', os.getcwd())\n",
    "    os.chdir(os.path.join(os.getcwd(), '..'))\n",
    "else:\n",
    "    # cd to snp_processing/notebooks\n",
    "    try:\n",
    "        os.chdir('notebooks')\n",
    "        os.chdir(os.path.join(os.getcwd(), '..'))\n",
    "    except:\n",
    "        print('Current working directory is not notebooks.  Please move notebook to the notebooks directory')\n",
    "        print('Current working directory: ', os.getcwd())\n",
    "\n",
    "# set the cwd to the main directory which is the parent directory of the current directory(notebooks)\n",
    "\n",
    "\n",
    "# Load the rsid files.\n",
    "rsid_file_1 = 'GSA-24v3-0_A1_b151_rsids.txt'\n",
    "rsid_file_2 = 'GSA-24v1-0_C2_b150_rsids.txt'\n",
    "# define the rsid file paths cwd + references folder + rsid file name\n",
    "rsid_file_path_1 = os.path.join(os.getcwd(), 'references', rsid_file_1)\n",
    "rsid_file_path_2 = os.path.join(os.getcwd(), 'references', rsid_file_2)\n",
    "\n",
    "\n",
    "# test snp file is a file with the data removed except for the first column.  Create by running the following command\n",
    "# awk -F '\\t' '{print $1}' filename.txt > test_snp.txt\n",
    "test_snp_file = 'test_snp.txt'\n",
    "# data is in the data folder\n",
    "test_snp_file_path_1 = os.path.join(os.getcwd(), 'data', 'test', test_snp_file)\n",
    "\n"
   ]
  },
  {
   "cell_type": "code",
   "execution_count": 37,
   "metadata": {},
   "outputs": [
    {
     "name": "stdout",
     "output_type": "stream",
     "text": [
      "(654027, 2)\n",
      "(618540, 2)\n",
      "(64609, 2)\n",
      "(29122, 2)\n"
     ]
    }
   ],
   "source": [
    "# Stage 2: Load the files\n",
    "\n",
    "# Load the rsid files with a \\t delimiter into a pandas dataframe\n",
    "rsid_1 = pd.read_csv(rsid_file_path_1, delimiter='\\t')\n",
    "rsid_2 = pd.read_csv(rsid_file_path_2, delimiter='\\t')\n",
    "rsid_data = [rsid_1, rsid_2]\n",
    "# read the test snp file.  There is a row that has the value of \"[data]\" that needs to be removed as well as everthing above it.\n",
    "\n",
    "# open the file\n",
    "with open(test_snp_file_path_1) as f:\n",
    "    # read the lines\n",
    "    lines = f.readlines()\n",
    "    # find the index of the line that has the value of \"[data]\"\n",
    "    index = lines.index('[Data]\\n')\n",
    "\n",
    "# read the file again but skip the first index and everything above it\n",
    "test_snp_1 = pd.read_csv(test_snp_file_path_1, delimiter='\\t', skiprows=index+1)\n",
    "\n",
    "for value in rsid_data:\n",
    "    # print the shape of the dataframe\n",
    "    print(value.shape)\n",
    "    # confirm that the first header is Name and the second is RsID\n",
    "    if value.columns[0] != 'Name' or value.columns[1] != 'RsID':\n",
    "        print(f'Error: The columns are not named correctly'  )\n",
    "        # print head of the dataframe\n",
    "        print(value.head())\n",
    "\n",
    "\n",
    "\n",
    "# find all values in rsid_1 that are not in rsid_2\n",
    "rsid_1_not_in_2 = rsid_1[~rsid_1['Name'].isin(rsid_2['Name'])]\n",
    "# find all values in rsid_2 that are not in rsid_1\n",
    "rsid_2_not_in_1 = rsid_2[~rsid_2['Name'].isin(rsid_1['Name'])]\n",
    "\n",
    "# print the shape of the dataframes\n",
    "print(rsid_1_not_in_2.shape)\n",
    "print(rsid_2_not_in_1.shape)\n",
    "\n",
    "\n",
    "# determine if there are any values in the first column of the test snp dataframe that are not in the rsid_1 dataframe\n",
    "test_snp_1_not_in_rsid_1 = test_snp_1[~test_snp_1[test_snp_1.columns[0]].isin(rsid_1[rsid_1.columns[0]])]\n",
    "\n",
    "\n",
    "# if there are any values in test_snp_1_not_in_rsid_1, print the shape\n",
    "if test_snp_1_not_in_rsid_1.shape[0] > 0:\n",
    "    print(\"there are values in the test snp file that are not in the rsid file\")\n",
    "    print(test_snp_1_not_in_rsid_1.shape)\n",
    "    print(test_snp_1_not_in_rsid_1.head())\n"
   ]
  },
  {
   "cell_type": "code",
   "execution_count": 39,
   "metadata": {},
   "outputs": [
    {
     "name": "stdout",
     "output_type": "stream",
     "text": [
      "The combined dataframe has the same length as the test_snp_1 dataframe\n"
     ]
    }
   ],
   "source": [
    "# Stage 3: Combine Data and output results\n",
    "# combine the rsid_1 and test_snp_1 dataframes on the first column\n",
    "combined = pd.merge(test_snp_1, rsid_1, left_on=test_snp_1.columns[0], right_on=rsid_1.columns[0])\n",
    "\n",
    "# the length of the combined dataframe should be the same as the test_snp_1 dataframe\n",
    "if combined.shape[0] == test_snp_1.shape[0]:\n",
    "    print('The combined dataframe has the same length as the test_snp_1 dataframe')\n",
    "\n",
    "# save the combined dataframe to a tsv file in the data/test folder\n",
    "combined_file = 'test_combined.tsv'\n",
    "combined_file_path = os.path.join(os.getcwd(), 'data', 'test', combined_file)\n",
    "combined.to_csv(combined_file_path, sep='\\t', index=False)\n",
    "\n",
    "\n",
    "\n"
   ]
  }
 ],
 "metadata": {
  "kernelspec": {
   "display_name": "biopython_env",
   "language": "python",
   "name": "python3"
  },
  "language_info": {
   "codemirror_mode": {
    "name": "ipython",
    "version": 3
   },
   "file_extension": ".py",
   "mimetype": "text/x-python",
   "name": "python",
   "nbconvert_exporter": "python",
   "pygments_lexer": "ipython3",
   "version": "3.12.3"
  }
 },
 "nbformat": 4,
 "nbformat_minor": 2
}
